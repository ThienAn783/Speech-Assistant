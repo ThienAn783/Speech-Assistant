{
 "cells": [
  {
   "cell_type": "code",
   "execution_count": null,
   "id": "81264e61",
   "metadata": {},
   "outputs": [],
   "source": [
    "import tkinter as tk\n",
    "from PIL import ImageTk, Image\n",
    "from tkinter.ttk import *\n",
    "from tkinter import *\n",
    "from tkinter import filedialog\n",
    "from tkinter.ttk import Combobox\n",
    "import pyttsx3\n",
    "import os\n",
    "root=Tk()\n",
    "root.title(\"Text To Speech\")\n",
    "root.geometry(\"900x500\")\n",
    "root.resizable(False,False)\n",
    "root.iconbitmap(r'C:\\Users\\SURFACE\\Downloads\\test.ico')\n",
    "Label(root, text=\"Speech Rate\", font=\"arial 11 bold\").place(x=670,y=70)\n",
    "Label(root, text=\"Volume\", font=\"arial 11 bold\").place(x=800,y=70)\n",
    "Label(root, text=\"High - \", font=\"arial 11 bold\").place(x=650,y=105)\n",
    "Label(root, text=\"Normal - \", font=\"arial 11 bold\").place(x=630,y=235)\n",
    "Label(root, text=\"Low - \", font=\"arial 11 bold\").place(x=650,y=380)\n",
    "Label(root, text=\"High - \", font=\"arial 11 bold\").place(x=760,y=105)\n",
    "Label(root, text=\"Normal - \", font=\"arial 11 bold\").place(x=743,y=235)\n",
    "Label(root, text=\"Low - \", font=\"arial 11 bold\").place(x=760,y=380)\n",
    "Label(root, text=\"SELECT A LANGUAGE\", font=\"arial 11 bold\").place(x=9,y=27)\n",
    "Label(root, text=\"SELECT A VOICE\", font=\"arial 11 bold\").place(x=247,y=27)\n",
    "engine = pyttsx3.init()\n",
    "def speak():\n",
    "    text = t.get(1.0,END)\n",
    "    voices = engine.getProperty('voices')\n",
    "    gender = sv.get()\n",
    "    speed = spd.get()\n",
    "    def setvoice():\n",
    "        if(gender == 'Male'):\n",
    "            engine.setProperty('voice', voices[0].id)\n",
    "            engine.say(text)\n",
    "            engine.runAndWait()\n",
    "        else:\n",
    "            engine.setProperty('voice', voices[1].id)\n",
    "            engine.say(text)\n",
    "            engine.runAndWait()\n",
    "    if(text):\n",
    "        if(speed =='Fast'):\n",
    "            engine.setProperty('rate',250)\n",
    "            setvoice()\n",
    "        if(speed =='Normal'):\n",
    "            engine.setProperty('rate',160)\n",
    "            setvoice()\n",
    "        if(speed =='Low'):\n",
    "            engine.setProperty('rate',60)\n",
    "            setvoice()\n",
    "def change(speed):\n",
    "    rate=spd.get()\n",
    "    print(str(rate))\n",
    "t = Text(root, font=\"arial\",bg=\"white\",relief=GROOVE,wrap=WORD)\n",
    "t.focus()\n",
    "t.place(x=10,y=100, width=600, height=300)\n",
    "lg=Combobox(root,values=['English','Vietnamese'],state='r',width=23)\n",
    "lg.pack()\n",
    "lg.place(x=14,y=50)\n",
    "lg.set('English')\n",
    "selected_gender = tk.StringVar()\n",
    "sv=Combobox(root, textvariable=selected_gender, values=['Male','Female'],state='r',width=23)\n",
    "sv.pack()\n",
    "sv.place(x=250,y=50)\n",
    "sv.set('Male')\n",
    "sk=Button(root,text=\"Listen🔊\",relief=FLAT,font=\"arial 14 bold\",command=speak).place(x=10,y=400)\n",
    "spd=Combobox(root,values=['Fast','Normal','Low'],state='r',width=23)\n",
    "spd.pack()\n",
    "spd.place(x=250,y=30)\n",
    "w = Scale(root, from_=250, to=65 )\n",
    "w.configure(bg=\"#EAA46B\", length=300)\n",
    "w.pack()\n",
    "w.place(x=700,y=100)\n",
    "v = Scale(root, from_=100, to=0, command=change)\n",
    "v.configure(bg=\"#EAA46B\",length=300)\n",
    "v.pack()\n",
    "v.place(x=810,y=100)\n",
    "root.mainloop()"
   ]
  },
  {
   "cell_type": "code",
   "execution_count": 6,
   "id": "06ef7f50",
   "metadata": {},
   "outputs": [
    {
     "data": {
      "text/plain": [
       "9"
      ]
     },
     "execution_count": 6,
     "metadata": {},
     "output_type": "execute_result"
    }
   ],
   "source": [
    "9"
   ]
  },
  {
   "cell_type": "code",
   "execution_count": null,
   "id": "c3d9ed17",
   "metadata": {},
   "outputs": [],
   "source": []
  }
 ],
 "metadata": {
  "kernelspec": {
   "display_name": "Python 3 (ipykernel)",
   "language": "python",
   "name": "python3"
  },
  "language_info": {
   "codemirror_mode": {
    "name": "ipython",
    "version": 3
   },
   "file_extension": ".py",
   "mimetype": "text/x-python",
   "name": "python",
   "nbconvert_exporter": "python",
   "pygments_lexer": "ipython3",
   "version": "3.10.5"
  }
 },
 "nbformat": 4,
 "nbformat_minor": 5
}
